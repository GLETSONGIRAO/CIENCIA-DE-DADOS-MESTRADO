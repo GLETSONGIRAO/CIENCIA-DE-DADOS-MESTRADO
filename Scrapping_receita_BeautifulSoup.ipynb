{
 "cells": [
  {
   "cell_type": "code",
   "execution_count": 1,
   "id": "516ce5b0",
   "metadata": {},
   "outputs": [],
   "source": [
    "import requests\n",
    "from bs4 import BeautifulSoup\n",
    "import pandas as pd"
   ]
  },
  {
   "cell_type": "code",
   "execution_count": 2,
   "id": "f32f09c5",
   "metadata": {},
   "outputs": [],
   "source": [
    "link = \"http://normas.receita.fazenda.gov.br/sijut2consulta/link.action?visao=anotado&idAto=95072\""
   ]
  },
  {
   "cell_type": "code",
   "execution_count": 3,
   "id": "6f0bfeb1",
   "metadata": {},
   "outputs": [],
   "source": [
    "# baixar a page usando a biblioteca requests do python\n",
    "page = requests.get(link)"
   ]
  },
  {
   "cell_type": "code",
   "execution_count": 4,
   "id": "832dd7e1",
   "metadata": {},
   "outputs": [
    {
     "name": "stdout",
     "output_type": "stream",
     "text": [
      "<class 'requests.models.Response'>\n",
      "<Response [200]>\n"
     ]
    }
   ],
   "source": [
    "print(type(page))\n",
    "print(page)"
   ]
  },
  {
   "cell_type": "code",
   "execution_count": 5,
   "id": "60800949",
   "metadata": {},
   "outputs": [],
   "source": [
    "# Parsear o HTML da page com a biblioteca BeautifulSoup\n",
    "soup = BeautifulSoup(page.content, 'html5lib')"
   ]
  },
  {
   "cell_type": "code",
   "execution_count": 6,
   "id": "bc898413",
   "metadata": {},
   "outputs": [
    {
     "data": {
      "text/plain": [
       "bs4.BeautifulSoup"
      ]
     },
     "execution_count": 6,
     "metadata": {},
     "output_type": "execute_result"
    }
   ],
   "source": [
    "type(soup)"
   ]
  },
  {
   "cell_type": "code",
   "execution_count": 7,
   "id": "9131c6e7",
   "metadata": {},
   "outputs": [],
   "source": [
    "# mostrar o HTML bonitinho\n",
    "\n",
    "#print(soup.prettify())"
   ]
  },
  {
   "cell_type": "markdown",
   "id": "d2840f3e",
   "metadata": {},
   "source": [
    "## Cabeçalho"
   ]
  },
  {
   "cell_type": "code",
   "execution_count": 8,
   "id": "ef8efc33",
   "metadata": {},
   "outputs": [],
   "source": [
    "# recuperando o html da classe título\n",
    "titulo = soup.find_all(class_ = \"tituloAto\")[0].get_text()"
   ]
  },
  {
   "cell_type": "code",
   "execution_count": 9,
   "id": "a45c23fa",
   "metadata": {},
   "outputs": [
    {
     "data": {
      "text/plain": [
       "'\\t\\t\\t\\t\\t\\t\\t\\n\\t\\t\\t\\t\\t\\t\\tInstrução Normativa\\n\\t\\t\\t\\t\\t\\t\\t\\t\\t\\t\\t\\t\\t\\t\\n\\t\\t                    \\n\\t\\t\\t\\t\\t\\t\\t\\t\\n                                    RFB\\n                                \\t\\n\\t\\t\\t\\t\\t\\t        \\n\\t\\t\\t\\t\\t\\t        \\n\\t\\t\\t\\t\\t\\t    \\n\\t\\t\\t\\t\\t\\t    nº\\xa01831,\\xa0de\\xa020 de setembro de 2018\\n\\t\\t\\t\\t\\t\\t\\t\\n\\t\\t\\t\\t\\t\\t\\t\\n\\t\\t\\t\\t\\t\\t\\t\\n\\t\\t\\t\\t\\t\\t\\t\\n\\t\\t\\t\\t\\t\\t'"
      ]
     },
     "execution_count": 9,
     "metadata": {},
     "output_type": "execute_result"
    }
   ],
   "source": [
    "# vamos ver no que deu\n",
    "titulo"
   ]
  },
  {
   "cell_type": "code",
   "execution_count": 10,
   "id": "4ed80019",
   "metadata": {},
   "outputs": [
    {
     "data": {
      "text/plain": [
       "['Instrução',\n",
       " 'Normativa',\n",
       " 'RFB',\n",
       " 'nº',\n",
       " '1831,',\n",
       " 'de',\n",
       " '20',\n",
       " 'de',\n",
       " 'setembro',\n",
       " 'de',\n",
       " '2018']"
      ]
     },
     "execution_count": 10,
     "metadata": {},
     "output_type": "execute_result"
    }
   ],
   "source": [
    "# e se eu der um split??\n",
    "titulo.split()"
   ]
  },
  {
   "cell_type": "code",
   "execution_count": 11,
   "id": "47fc2d91",
   "metadata": {
    "scrolled": true
   },
   "outputs": [
    {
     "data": {
      "text/plain": [
       "'Instrução Normativa RFB nº 1831, de 20 de setembro de 2018'"
      ]
     },
     "execution_count": 11,
     "metadata": {},
     "output_type": "execute_result"
    }
   ],
   "source": [
    "# agora é só juntar (não sei regex)\n",
    "titulo_tratado = \" \".join(titulo.split())\n",
    "titulo_tratado"
   ]
  },
  {
   "cell_type": "markdown",
   "id": "f29c041e",
   "metadata": {},
   "source": [
    "## Publicação do DOU"
   ]
  },
  {
   "cell_type": "code",
   "execution_count": 12,
   "id": "38aeb91e",
   "metadata": {},
   "outputs": [],
   "source": [
    "# recuperando a classe tituloPublicação (Publicação no DOU)\n",
    "publi = soup.find_all(class_ = \"tituloPublicacao\")[0].get_text()"
   ]
  },
  {
   "cell_type": "code",
   "execution_count": 13,
   "id": "548132f1",
   "metadata": {},
   "outputs": [
    {
     "data": {
      "text/plain": [
       "'\\n\\t\\t\\t\\t\\t\\n\\t\\t\\t\\t\\t\\t(Publicado(a) no DOU de 21/09/2018, seção 1, página 38)\\xa0\\xa0\\n\\t\\t\\t\\t\\t\\n\\t\\t\\t\\t\\t\\n\\t\\t\\t\\t\\t\\n\\t\\t\\t\\t\\t\\n\\t\\t\\t\\t\\t'"
      ]
     },
     "execution_count": 13,
     "metadata": {},
     "output_type": "execute_result"
    }
   ],
   "source": [
    "# como ficou?\n",
    "publi"
   ]
  },
  {
   "cell_type": "code",
   "execution_count": 14,
   "id": "09f78a6c",
   "metadata": {},
   "outputs": [
    {
     "data": {
      "text/plain": [
       "'(Publicado(a) no DOU de 21/09/2018, seção 1, página 38)'"
      ]
     },
     "execution_count": 14,
     "metadata": {},
     "output_type": "execute_result"
    }
   ],
   "source": [
    "# ta cheio de muganga tbm, vmao tentar a mesma coisa\n",
    "publi_tratado = \" \".join(publi.split())\n",
    "publi_tratado"
   ]
  },
  {
   "cell_type": "markdown",
   "id": "6a8958b3",
   "metadata": {},
   "source": [
    "Ta top!"
   ]
  },
  {
   "cell_type": "markdown",
   "id": "252c4046",
   "metadata": {},
   "source": [
    "## Ementa"
   ]
  },
  {
   "cell_type": "code",
   "execution_count": 15,
   "id": "65f0a917",
   "metadata": {},
   "outputs": [
    {
     "data": {
      "text/plain": [
       "'\\n\\t\\t\\t\\t\\t\\t\\t\\t\\t\\tAltera a Instrução Normativa RFB nº 1.059, de 2 de agosto de 2010, que dispõe sobre procedimentos de controle aduaneiro e tratamento tributário aplicáveis a bens de viajantes.\\n\\t\\t\\t\\t\\t\\t\\t\\t\\t'"
      ]
     },
     "execution_count": 15,
     "metadata": {},
     "output_type": "execute_result"
    }
   ],
   "source": [
    "# mesma coisa dos outros\n",
    "ementa = soup.find_all(class_ = \"ementa\")[0].get_text()\n",
    "ementa"
   ]
  },
  {
   "cell_type": "code",
   "execution_count": 16,
   "id": "a9bba9a4",
   "metadata": {
    "scrolled": true
   },
   "outputs": [
    {
     "data": {
      "text/plain": [
       "'Altera a Instrução Normativa RFB nº 1.059, de 2 de agosto de 2010, que dispõe sobre procedimentos de controle aduaneiro e tratamento tributário aplicáveis a bens de viajantes.'"
      ]
     },
     "execution_count": 16,
     "metadata": {},
     "output_type": "execute_result"
    }
   ],
   "source": [
    "ementa_tratada = \" \".join(ementa.split())\n",
    "ementa_tratada"
   ]
  },
  {
   "cell_type": "markdown",
   "id": "39e819b9",
   "metadata": {},
   "source": [
    "## Norma"
   ]
  },
  {
   "cell_type": "code",
   "execution_count": 17,
   "id": "42452f6f",
   "metadata": {},
   "outputs": [],
   "source": [
    "items_norma = soup.find_all(class_ = \"divSegmentos\")"
   ]
  },
  {
   "cell_type": "code",
   "execution_count": 18,
   "id": "b24315c7",
   "metadata": {},
   "outputs": [
    {
     "data": {
      "text/plain": [
       "16"
      ]
     },
     "execution_count": 18,
     "metadata": {},
     "output_type": "execute_result"
    }
   ],
   "source": [
    "len(items_norma)"
   ]
  },
  {
   "cell_type": "code",
   "execution_count": 19,
   "id": "7cb669c5",
   "metadata": {},
   "outputs": [],
   "source": [
    "# colocando todos os elementos achados com a classe divSegmentos\n",
    "# já tratados dentro da lista auxiliar\n",
    "# justando os elemento da lista auxiliar pora produzir a string norma\n",
    "lista_norma = []\n",
    "for i in range(len(items_norma)):\n",
    "    lista_norma.append(\" \".join(items_norma[i].get_text().split()))\n",
    "    \n",
    "norma = \" \".join(lista_norma)"
   ]
  },
  {
   "cell_type": "code",
   "execution_count": 20,
   "id": "76a6f2c3",
   "metadata": {
    "scrolled": true
   },
   "outputs": [
    {
     "data": {
      "text/plain": [
       "'O SECRETÁRIO DA RECEITA FEDERAL DO BRASIL, no uso da atribuição que lhe confere o inciso III do art. 327 do Regimento Interno da Secretaria da Receita Federal do Brasil, aprovado pela Portaria MF nº 430, de 9 de outubro de 2017, e tendo em vista o disposto no art. 168 do Decreto nº 6.759, de 5 de fevereiro de 2009, e no art. 18 da Portaria MF nº 440, de 30 de julho de 2010, resolve: Art. 1º A Instrução Normativa RFB nº 1.059, de 2 de agosto de 2010, passa a vigorar com as seguintes alterações: “Art. 35. .................................................................................. ................................................................................................... § 2º No decurso do prazo mínimo exigido para fruição da isenção de que trata o caput, as viagens ocasionais ao Brasil não prejudicam a contagem do referido prazo, desde que totalizem permanência no País igual ou inferior a 45 (quarenta e cinco) dias. swap_horiz (Instrução Normativa RFB nº 1059, de 02/08/10 - § 2º NÃO PREJUDICAM A CONTAGEM DO PRAZO A QUE - Alteração) § 2º-A. Na hipótese prevista no § 2º, se o limite de 45 (quarenta e cinco) dias for ultrapassado, o período excedente não será computado para fins de contagem do prazo mínimo de 1 (um) ano previsto no caput.” (NR) swap_horiz (Instrução Normativa RFB nº 1059, de 02/08/10 - § 2º-A. NA HIPÓTESE PREVISTA NO § 2º, SE O LI - Inclusão) “Art. 41. ................................................................ ................................................................................................... § 5º Ressalvado o disposto no inciso II do art. 44, o RTE será aplicado também aos bens de viajantes que excedam os limites quantitativos a que se referem os §§ 1º ao 4º do art. 33, vedada, nesses casos, a fruição da isenção prevista no inciso III do caput do art. 33.” (NR) swap_horiz (Instrução Normativa RFB nº 1059, de 02/08/10 - § 5º RESSALVADO O DISPOSTO NO INCISO II DO AR - Inclusão) “Art. 44. .................................................................. II - que excedam os limites quantitativos de que tratam os incisos I a IV do § 1º do art. 33; ou swap_horiz (Instrução Normativa RFB nº 1059, de 02/08/10 - II - QUE EXCEDAM OS LIMITES QUANTITATIVOS DE - Alteração) ........................................................................................” (NR) Art. 2º Esta Instrução Normativa entra em vigor na data de sua publicação no Diário Oficial da União e produz efeitos: I - na data de sua publicação, quanto às alterações do art. 35 da Instrução Normativa RFB nº 1.059, de 2 de agosto de 2010; e II - em 27 de setembro de 2018, quanto às alterações dos arts. 41 e 44 da Instrução Normativa RFB nº 1.059, de 2 de agosto de 2010. swap_horiz (Instrução Normativa RFB nº 1059, de 02/08/10 - § 5º RESSALVADO O DISPOSTO NO INCISO II DO AR - Vide) (Instrução Normativa RFB nº 1059, de 02/08/10 - II - QUE EXCEDAM OS LIMITES QUANTITATIVOS DE - Vide) JORGE ANTONIO DEHER RACHID'"
      ]
     },
     "execution_count": 20,
     "metadata": {},
     "output_type": "execute_result"
    }
   ],
   "source": [
    "norma"
   ]
  },
  {
   "cell_type": "markdown",
   "id": "1305bf64",
   "metadata": {},
   "source": [
    "## Juntando tudo"
   ]
  },
  {
   "cell_type": "code",
   "execution_count": 21,
   "id": "5dc27eba",
   "metadata": {},
   "outputs": [],
   "source": [
    "# apenas criando um dataframe\n",
    "df = pd.DataFrame({\"Título\":[titulo_tratado],'Publi_DOU':[publi_tratado],\n",
    "                   'Ementa':[ementa_tratada],'Norma':[norma]})"
   ]
  },
  {
   "cell_type": "code",
   "execution_count": 22,
   "id": "41036092",
   "metadata": {},
   "outputs": [],
   "source": [
    "pd.options.display.max_colwidth = 5000"
   ]
  },
  {
   "cell_type": "code",
   "execution_count": 23,
   "id": "55555531",
   "metadata": {},
   "outputs": [
    {
     "data": {
      "text/html": [
       "<div>\n",
       "<style scoped>\n",
       "    .dataframe tbody tr th:only-of-type {\n",
       "        vertical-align: middle;\n",
       "    }\n",
       "\n",
       "    .dataframe tbody tr th {\n",
       "        vertical-align: top;\n",
       "    }\n",
       "\n",
       "    .dataframe thead th {\n",
       "        text-align: right;\n",
       "    }\n",
       "</style>\n",
       "<table border=\"1\" class=\"dataframe\">\n",
       "  <thead>\n",
       "    <tr style=\"text-align: right;\">\n",
       "      <th></th>\n",
       "      <th>Título</th>\n",
       "      <th>Publi_DOU</th>\n",
       "      <th>Ementa</th>\n",
       "      <th>Norma</th>\n",
       "    </tr>\n",
       "  </thead>\n",
       "  <tbody>\n",
       "    <tr>\n",
       "      <th>0</th>\n",
       "      <td>Instrução Normativa RFB nº 1831, de 20 de setembro de 2018</td>\n",
       "      <td>(Publicado(a) no DOU de 21/09/2018, seção 1, página 38)</td>\n",
       "      <td>Altera a Instrução Normativa RFB nº 1.059, de 2 de agosto de 2010, que dispõe sobre procedimentos de controle aduaneiro e tratamento tributário aplicáveis a bens de viajantes.</td>\n",
       "      <td>O SECRETÁRIO DA RECEITA FEDERAL DO BRASIL, no uso da atribuição que lhe confere o inciso III do art. 327 do Regimento Interno da Secretaria da Receita Federal do Brasil, aprovado pela Portaria MF nº 430, de 9 de outubro de 2017, e tendo em vista o disposto no art. 168 do Decreto nº 6.759, de 5 de fevereiro de 2009, e no art. 18 da Portaria MF nº 440, de 30 de julho de 2010, resolve: Art. 1º A Instrução Normativa RFB nº 1.059, de 2 de agosto de 2010, passa a vigorar com as seguintes alterações: “Art. 35. .................................................................................. ................................................................................................... § 2º No decurso do prazo mínimo exigido para fruição da isenção de que trata o caput, as viagens ocasionais ao Brasil não prejudicam a contagem do referido prazo, desde que totalizem permanência no País igual ou inferior a 45 (quarenta e cinco) dias. swap_horiz (Instrução Normativa RFB nº 1059, de 02/08/10 - § 2º NÃO PREJUDICAM A CONTAGEM DO PRAZO A QUE - Alteração) § 2º-A. Na hipótese prevista no § 2º, se o limite de 45 (quarenta e cinco) dias for ultrapassado, o período excedente não será computado para fins de contagem do prazo mínimo de 1 (um) ano previsto no caput.” (NR) swap_horiz (Instrução Normativa RFB nº 1059, de 02/08/10 - § 2º-A. NA HIPÓTESE PREVISTA NO § 2º, SE O LI - Inclusão) “Art. 41. ................................................................ ................................................................................................... § 5º Ressalvado o disposto no inciso II do art. 44, o RTE será aplicado também aos bens de viajantes que excedam os limites quantitativos a que se referem os §§ 1º ao 4º do art. 33, vedada, nesses casos, a fruição da isenção prevista no inciso III do caput do art. 33.” (NR) swap_horiz (Instrução Normativa RFB nº 1059, de 02/08/10 - § 5º RESSALVADO O DISPOSTO NO INCISO II DO AR - Inclusão) “Art. 44. .................................................................. II - que excedam os limites quantitativos de que tratam os incisos I a IV do § 1º do art. 33; ou swap_horiz (Instrução Normativa RFB nº 1059, de 02/08/10 - II - QUE EXCEDAM OS LIMITES QUANTITATIVOS DE - Alteração) ........................................................................................” (NR) Art. 2º Esta Instrução Normativa entra em vigor na data de sua publicação no Diário Oficial da União e produz efeitos: I - na data de sua publicação, quanto às alterações do art. 35 da Instrução Normativa RFB nº 1.059, de 2 de agosto de 2010; e II - em 27 de setembro de 2018, quanto às alterações dos arts. 41 e 44 da Instrução Normativa RFB nº 1.059, de 2 de agosto de 2010. swap_horiz (Instrução Normativa RFB nº 1059, de 02/08/10 - § 5º RESSALVADO O DISPOSTO NO INCISO II DO AR - Vide) (Instrução Normativa RFB nº 1059, de 02/08/10 - II - QUE EXCEDAM OS LIMITES QUANTITATIVOS DE - Vide) JORGE ANTONIO DEHER RACHID</td>\n",
       "    </tr>\n",
       "  </tbody>\n",
       "</table>\n",
       "</div>"
      ],
      "text/plain": [
       "                                                       Título  \\\n",
       "0  Instrução Normativa RFB nº 1831, de 20 de setembro de 2018   \n",
       "\n",
       "                                                 Publi_DOU  \\\n",
       "0  (Publicado(a) no DOU de 21/09/2018, seção 1, página 38)   \n",
       "\n",
       "                                                                                                                                                                            Ementa  \\\n",
       "0  Altera a Instrução Normativa RFB nº 1.059, de 2 de agosto de 2010, que dispõe sobre procedimentos de controle aduaneiro e tratamento tributário aplicáveis a bens de viajantes.   \n",
       "\n",
       "                                                                                                                                                                                                                                                                                                                                                                                                                                                                                                                                                                                                                                                                                                                                                                                                                                                                                                                                                                                                                                                                                                                                                                                                                                                                                                                                                                                                                                                                                                                                                                                                                                                                                                                                                                                                                                                                                                                                                                                                                                                                                                                                                                                                                                                                                                                                                                                                                                                                                                                                                                                                                                                                                                                                                                                                                                                                                                                                                                                                                                                                                Norma  \n",
       "0  O SECRETÁRIO DA RECEITA FEDERAL DO BRASIL, no uso da atribuição que lhe confere o inciso III do art. 327 do Regimento Interno da Secretaria da Receita Federal do Brasil, aprovado pela Portaria MF nº 430, de 9 de outubro de 2017, e tendo em vista o disposto no art. 168 do Decreto nº 6.759, de 5 de fevereiro de 2009, e no art. 18 da Portaria MF nº 440, de 30 de julho de 2010, resolve: Art. 1º A Instrução Normativa RFB nº 1.059, de 2 de agosto de 2010, passa a vigorar com as seguintes alterações: “Art. 35. .................................................................................. ................................................................................................... § 2º No decurso do prazo mínimo exigido para fruição da isenção de que trata o caput, as viagens ocasionais ao Brasil não prejudicam a contagem do referido prazo, desde que totalizem permanência no País igual ou inferior a 45 (quarenta e cinco) dias. swap_horiz (Instrução Normativa RFB nº 1059, de 02/08/10 - § 2º NÃO PREJUDICAM A CONTAGEM DO PRAZO A QUE - Alteração) § 2º-A. Na hipótese prevista no § 2º, se o limite de 45 (quarenta e cinco) dias for ultrapassado, o período excedente não será computado para fins de contagem do prazo mínimo de 1 (um) ano previsto no caput.” (NR) swap_horiz (Instrução Normativa RFB nº 1059, de 02/08/10 - § 2º-A. NA HIPÓTESE PREVISTA NO § 2º, SE O LI - Inclusão) “Art. 41. ................................................................ ................................................................................................... § 5º Ressalvado o disposto no inciso II do art. 44, o RTE será aplicado também aos bens de viajantes que excedam os limites quantitativos a que se referem os §§ 1º ao 4º do art. 33, vedada, nesses casos, a fruição da isenção prevista no inciso III do caput do art. 33.” (NR) swap_horiz (Instrução Normativa RFB nº 1059, de 02/08/10 - § 5º RESSALVADO O DISPOSTO NO INCISO II DO AR - Inclusão) “Art. 44. .................................................................. II - que excedam os limites quantitativos de que tratam os incisos I a IV do § 1º do art. 33; ou swap_horiz (Instrução Normativa RFB nº 1059, de 02/08/10 - II - QUE EXCEDAM OS LIMITES QUANTITATIVOS DE - Alteração) ........................................................................................” (NR) Art. 2º Esta Instrução Normativa entra em vigor na data de sua publicação no Diário Oficial da União e produz efeitos: I - na data de sua publicação, quanto às alterações do art. 35 da Instrução Normativa RFB nº 1.059, de 2 de agosto de 2010; e II - em 27 de setembro de 2018, quanto às alterações dos arts. 41 e 44 da Instrução Normativa RFB nº 1.059, de 2 de agosto de 2010. swap_horiz (Instrução Normativa RFB nº 1059, de 02/08/10 - § 5º RESSALVADO O DISPOSTO NO INCISO II DO AR - Vide) (Instrução Normativa RFB nº 1059, de 02/08/10 - II - QUE EXCEDAM OS LIMITES QUANTITATIVOS DE - Vide) JORGE ANTONIO DEHER RACHID  "
      ]
     },
     "execution_count": 23,
     "metadata": {},
     "output_type": "execute_result"
    }
   ],
   "source": [
    "df"
   ]
  },
  {
   "cell_type": "code",
   "execution_count": 24,
   "id": "39bb37ae",
   "metadata": {},
   "outputs": [],
   "source": [
    "# criando csv\n",
    "df.to_csv('scrap_receita.csv')"
   ]
  },
  {
   "cell_type": "code",
   "execution_count": 25,
   "id": "9df952ee",
   "metadata": {},
   "outputs": [],
   "source": [
    "# criando json\n",
    "df.to_json('scrap_receita.json')"
   ]
  },
  {
   "cell_type": "code",
   "execution_count": null,
   "id": "b7888801",
   "metadata": {},
   "outputs": [],
   "source": []
  }
 ],
 "metadata": {
  "kernelspec": {
   "display_name": "Python 3 (ipykernel)",
   "language": "python",
   "name": "python3"
  },
  "language_info": {
   "codemirror_mode": {
    "name": "ipython",
    "version": 3
   },
   "file_extension": ".py",
   "mimetype": "text/x-python",
   "name": "python",
   "nbconvert_exporter": "python",
   "pygments_lexer": "ipython3",
   "version": "3.9.11"
  }
 },
 "nbformat": 4,
 "nbformat_minor": 5
}
