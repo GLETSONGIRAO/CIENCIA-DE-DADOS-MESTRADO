{
 "cells": [
  {
   "cell_type": "code",
   "execution_count": 1,
   "id": "64002381",
   "metadata": {},
   "outputs": [],
   "source": [
    "import requests\n",
    "from bs4 import BeautifulSoup # Biblioteca para webscrapping\n",
    "import pandas as pd"
   ]
  },
  {
   "cell_type": "code",
   "execution_count": 2,
   "id": "6756c836",
   "metadata": {},
   "outputs": [],
   "source": [
    "#criando a lista de páginas\n",
    "\n",
    "lista_pages = [str(\"https://quotes.toscrape.com/page/{}/\").format(i) for i in range(1,11)]"
   ]
  },
  {
   "cell_type": "code",
   "execution_count": 8,
   "id": "11dd59d0",
   "metadata": {},
   "outputs": [
    {
     "data": {
      "text/plain": [
       "['https://quotes.toscrape.com/page/1/',\n",
       " 'https://quotes.toscrape.com/page/2/',\n",
       " 'https://quotes.toscrape.com/page/3/',\n",
       " 'https://quotes.toscrape.com/page/4/',\n",
       " 'https://quotes.toscrape.com/page/5/',\n",
       " 'https://quotes.toscrape.com/page/6/',\n",
       " 'https://quotes.toscrape.com/page/7/',\n",
       " 'https://quotes.toscrape.com/page/8/',\n",
       " 'https://quotes.toscrape.com/page/9/',\n",
       " 'https://quotes.toscrape.com/page/10/']"
      ]
     },
     "execution_count": 8,
     "metadata": {},
     "output_type": "execute_result"
    }
   ],
   "source": [
    "lista_pages"
   ]
  },
  {
   "cell_type": "code",
   "execution_count": 3,
   "id": "7a0a8568",
   "metadata": {},
   "outputs": [],
   "source": [
    "# as 3 listas abaixo receberão os dados de cada citação\n",
    "cit = [] # recebe o texto da citação\n",
    "autor = [] # recebe o autor da citação\n",
    "tags = [] # recebe as tags da citação\n",
    "\n",
    "for link in lista_pages: # passa por todos os links da lista de links\n",
    "    \n",
    "    page = requests.get(link) # usa a biblioteca requests para baixar a page\n",
    "    \n",
    "    soup = BeautifulSoup(page.content, 'html5lib') # usa a biblioteca Beautiful Soup para parsear o HTML\n",
    "    # page.content retorna o conteúdo da page dentro do objeto page criado com requests\n",
    "    # html5lib é um \"parseador\" dentre os parseadores existentes para python\n",
    "    \n",
    "    quotes = soup.find_all(class_ = 'quote') # retorna todos os elementos HTML que têm a classe quote\n",
    "\n",
    "    for quote in quotes: # para cada um dos elementos retornados:\n",
    "        cit.append(quote.find_all(class_ = 'text')[0].get_text()) # pega o texto do elemento com a classe \"text\" e joga na lista de citações\n",
    "        autor.append(quote.find_all(class_ = 'author')[0].get_text())  # pega o texto do elemento com a classe \"author\" e joga na lista de autores\n",
    "\n",
    "        lista_tags = [] # uma lista para todas as tags dentro de UMA citação\n",
    "        for tag in quotes[0].find_all(class_ = 'tag'): # Para cada um dos elementos com a classe \"tag\" dentro de UMA citação (do loop)\n",
    "            lista_tags.append(tag.get_text()) # pega o texto desse elemento e joga dentro da lista de tags da citação\n",
    "        tags.append(lista_tags) # joga a lista de tags desta citação dentro da lista de tags de todas as citações; a lista de tags de todas as citações é uma lista de listas\n",
    "        \n",
    "        # é só isso mesmo"
   ]
  },
  {
   "cell_type": "code",
   "execution_count": 4,
   "id": "bf4787aa",
   "metadata": {},
   "outputs": [],
   "source": [
    "# criando dataframe com as listas\n",
    "df = pd.DataFrame({'Quote':cit, 'Autor':autor, 'Tags':tags})"
   ]
  },
  {
   "cell_type": "code",
   "execution_count": 5,
   "id": "bc3a52aa",
   "metadata": {},
   "outputs": [
    {
     "data": {
      "text/html": [
       "<div>\n",
       "<style scoped>\n",
       "    .dataframe tbody tr th:only-of-type {\n",
       "        vertical-align: middle;\n",
       "    }\n",
       "\n",
       "    .dataframe tbody tr th {\n",
       "        vertical-align: top;\n",
       "    }\n",
       "\n",
       "    .dataframe thead th {\n",
       "        text-align: right;\n",
       "    }\n",
       "</style>\n",
       "<table border=\"1\" class=\"dataframe\">\n",
       "  <thead>\n",
       "    <tr style=\"text-align: right;\">\n",
       "      <th></th>\n",
       "      <th>Quote</th>\n",
       "      <th>Autor</th>\n",
       "      <th>Tags</th>\n",
       "    </tr>\n",
       "  </thead>\n",
       "  <tbody>\n",
       "    <tr>\n",
       "      <th>0</th>\n",
       "      <td>“The world as we have created it is a process ...</td>\n",
       "      <td>Albert Einstein</td>\n",
       "      <td>[change, deep-thoughts, thinking, world]</td>\n",
       "    </tr>\n",
       "    <tr>\n",
       "      <th>1</th>\n",
       "      <td>“It is our choices, Harry, that show what we t...</td>\n",
       "      <td>J.K. Rowling</td>\n",
       "      <td>[change, deep-thoughts, thinking, world]</td>\n",
       "    </tr>\n",
       "    <tr>\n",
       "      <th>2</th>\n",
       "      <td>“There are only two ways to live your life. On...</td>\n",
       "      <td>Albert Einstein</td>\n",
       "      <td>[change, deep-thoughts, thinking, world]</td>\n",
       "    </tr>\n",
       "    <tr>\n",
       "      <th>3</th>\n",
       "      <td>“The person, be it gentleman or lady, who has ...</td>\n",
       "      <td>Jane Austen</td>\n",
       "      <td>[change, deep-thoughts, thinking, world]</td>\n",
       "    </tr>\n",
       "    <tr>\n",
       "      <th>4</th>\n",
       "      <td>“Imperfection is beauty, madness is genius and...</td>\n",
       "      <td>Marilyn Monroe</td>\n",
       "      <td>[change, deep-thoughts, thinking, world]</td>\n",
       "    </tr>\n",
       "    <tr>\n",
       "      <th>...</th>\n",
       "      <td>...</td>\n",
       "      <td>...</td>\n",
       "      <td>...</td>\n",
       "    </tr>\n",
       "    <tr>\n",
       "      <th>95</th>\n",
       "      <td>“You never really understand a person until yo...</td>\n",
       "      <td>Harper Lee</td>\n",
       "      <td>[truth]</td>\n",
       "    </tr>\n",
       "    <tr>\n",
       "      <th>96</th>\n",
       "      <td>“You have to write the book that wants to be w...</td>\n",
       "      <td>Madeleine L'Engle</td>\n",
       "      <td>[truth]</td>\n",
       "    </tr>\n",
       "    <tr>\n",
       "      <th>97</th>\n",
       "      <td>“Never tell the truth to people who are not wo...</td>\n",
       "      <td>Mark Twain</td>\n",
       "      <td>[truth]</td>\n",
       "    </tr>\n",
       "    <tr>\n",
       "      <th>98</th>\n",
       "      <td>“A person's a person, no matter how small.”</td>\n",
       "      <td>Dr. Seuss</td>\n",
       "      <td>[truth]</td>\n",
       "    </tr>\n",
       "    <tr>\n",
       "      <th>99</th>\n",
       "      <td>“... a mind needs books as a sword needs a whe...</td>\n",
       "      <td>George R.R. Martin</td>\n",
       "      <td>[truth]</td>\n",
       "    </tr>\n",
       "  </tbody>\n",
       "</table>\n",
       "<p>100 rows × 3 columns</p>\n",
       "</div>"
      ],
      "text/plain": [
       "                                                Quote               Autor  \\\n",
       "0   “The world as we have created it is a process ...     Albert Einstein   \n",
       "1   “It is our choices, Harry, that show what we t...        J.K. Rowling   \n",
       "2   “There are only two ways to live your life. On...     Albert Einstein   \n",
       "3   “The person, be it gentleman or lady, who has ...         Jane Austen   \n",
       "4   “Imperfection is beauty, madness is genius and...      Marilyn Monroe   \n",
       "..                                                ...                 ...   \n",
       "95  “You never really understand a person until yo...          Harper Lee   \n",
       "96  “You have to write the book that wants to be w...   Madeleine L'Engle   \n",
       "97  “Never tell the truth to people who are not wo...          Mark Twain   \n",
       "98        “A person's a person, no matter how small.”           Dr. Seuss   \n",
       "99  “... a mind needs books as a sword needs a whe...  George R.R. Martin   \n",
       "\n",
       "                                        Tags  \n",
       "0   [change, deep-thoughts, thinking, world]  \n",
       "1   [change, deep-thoughts, thinking, world]  \n",
       "2   [change, deep-thoughts, thinking, world]  \n",
       "3   [change, deep-thoughts, thinking, world]  \n",
       "4   [change, deep-thoughts, thinking, world]  \n",
       "..                                       ...  \n",
       "95                                   [truth]  \n",
       "96                                   [truth]  \n",
       "97                                   [truth]  \n",
       "98                                   [truth]  \n",
       "99                                   [truth]  \n",
       "\n",
       "[100 rows x 3 columns]"
      ]
     },
     "execution_count": 5,
     "metadata": {},
     "output_type": "execute_result"
    }
   ],
   "source": [
    "df"
   ]
  },
  {
   "cell_type": "code",
   "execution_count": 6,
   "id": "3d50c4b4",
   "metadata": {},
   "outputs": [],
   "source": [
    "# salvando csv\n",
    "df.to_csv('quotes_to_scrap_dataset.csv')"
   ]
  },
  {
   "cell_type": "code",
   "execution_count": 7,
   "id": "37d1fa95",
   "metadata": {},
   "outputs": [],
   "source": [
    "# salvando json\n",
    "df.to_json('quotes_to_scrap_dataset.json')"
   ]
  },
  {
   "cell_type": "code",
   "execution_count": null,
   "id": "07282f10",
   "metadata": {},
   "outputs": [],
   "source": []
  }
 ],
 "metadata": {
  "kernelspec": {
   "display_name": "Python 3 (ipykernel)",
   "language": "python",
   "name": "python3"
  },
  "language_info": {
   "codemirror_mode": {
    "name": "ipython",
    "version": 3
   },
   "file_extension": ".py",
   "mimetype": "text/x-python",
   "name": "python",
   "nbconvert_exporter": "python",
   "pygments_lexer": "ipython3",
   "version": "3.9.11"
  }
 },
 "nbformat": 4,
 "nbformat_minor": 5
}
